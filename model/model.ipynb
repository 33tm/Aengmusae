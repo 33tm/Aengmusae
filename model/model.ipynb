{
 "cells": [
  {
   "cell_type": "code",
   "execution_count": 4,
   "metadata": {},
   "outputs": [
    {
     "name": "stdout",
     "output_type": "stream",
     "text": [
      "Loaded 100 training pairs\n",
      "Loaded 100 testing pairs\n"
     ]
    }
   ],
   "source": [
    "from csv import reader\n",
    "from os.path import exists\n",
    "\n",
    "if not exists(\"../data/train.csv\"):\n",
    "    print(\"Please generate the training dataset by running ../data/train.py\")\n",
    "    exit()\n",
    "\n",
    "with open(\"../data/train.csv\", encoding=\"utf-8\", newline=\"\") as file:\n",
    "    train = [tuple(row) for row in reader(file)]\n",
    "    print(f\"Loaded {len(train)} training pairs\")\n",
    "    romaja, korean = zip(*train)\n",
    "\n",
    "if not exists(\"../data/train.csv\"):\n",
    "    print(\"Please generate the testing dataset by running ../data/test.py\")\n",
    "    exit()\n",
    "\n",
    "with open(\"../data/test.csv\", encoding=\"utf-8\", newline=\"\") as file:\n",
    "    test = [tuple(row) for row in reader(file)]\n",
    "    print(f\"Loaded {len(train)} testing pairs\")\n",
    "\n",
    "class Initialize:\n",
    "    def __init__(self, words):\n",
    "        self.words = words\n",
    "        self.charset = list(set(\"\".join(words)))\n",
    "        self.max = max([len(word) for word in words])\n",
    "        self.tensors = []\n",
    "\n",
    "def decompose(word):\n",
    "    output = \"\"\n",
    "    for syllable in word:\n",
    "        if (u := ord(syllable) - 0xAC00) < 0:\n",
    "            raise Exception(f'Non-Korean syllable \"{syllable}\" in word \"{word}\"')\n",
    "        l = chr(u // 588 + 0x1100)\n",
    "        v = chr(u % 588 // 28 + 0x1161)\n",
    "        t = chr(u % 28 + 0x11A7) if u % 28 else \"\"\n",
    "        output += l + v + t\n",
    "    return output\n",
    "\n",
    "romaja, korean = Initialize(romaja), Initialize([decompose(word) for word in korean])\n",
    "\n",
    "charset_max = max(len(romaja.charset), len(korean.charset))"
   ]
  },
  {
   "cell_type": "code",
   "execution_count": 5,
   "metadata": {},
   "outputs": [],
   "source": [
    "import torch\n",
    "\n",
    "device = torch.device(\"cuda\" if torch.cuda.is_available() else \"cpu\")\n",
    "\n",
    "def create_tensors(input: Initialize):\n",
    "    for word in input.words:\n",
    "        tensor = torch.zeros(\n",
    "            max(romaja.max, korean.max),\n",
    "            1,\n",
    "            charset_max\n",
    "        ).to(device)\n",
    "        for i, char in enumerate(word):\n",
    "            tensor[i][0][input.charset.index(char)] = 1\n",
    "        input.tensors.append(tensor)\n",
    "\n",
    "create_tensors(romaja)\n",
    "create_tensors(korean)"
   ]
  },
  {
   "cell_type": "code",
   "execution_count": 6,
   "metadata": {},
   "outputs": [
    {
     "data": {
      "image/png": "[encoded data removed]",
      "text/plain": [
       "<Figure size 640x480 with 1 Axes>"
      ]
     },
     "metadata": {},
     "output_type": "display_data"
    }
   ],
   "source": [
    "from torch import nn, optim\n",
    "from matplotlib import pyplot as plt\n",
    "\n",
    "class RNN(nn.Module):\n",
    "    def __init__(self, input_size, hidden_size, output_size):\n",
    "        super(RNN, self).__init__()\n",
    "        self.hidden_size = hidden_size\n",
    "        self.rnn = nn.RNN(input_size, hidden_size, batch_first=True)\n",
    "        self.linear = nn.Linear(hidden_size, output_size)\n",
    "    \n",
    "    def forward(self, input):\n",
    "        hidden = torch.zeros(1, input.size(0), self.hidden_size).to(device)\n",
    "        output, hidden = self.rnn(input, hidden)\n",
    "        return self.linear(output[:, -1, :])\n",
    "    \n",
    "model = RNN(charset_max, 128, charset_max).to(device)\n",
    "criterion = nn.CrossEntropyLoss()\n",
    "optimizer = optim.Adam(model.parameters(), lr=0.01)\n",
    "\n",
    "losses = []\n",
    "for epoch in range(100):\n",
    "    total_loss = 0\n",
    "    for input, target in zip(romaja.tensors, korean.tensors):\n",
    "        optimizer.zero_grad()\n",
    "        outputs = model(input)\n",
    "        loss = criterion(outputs, target.squeeze())\n",
    "        total_loss += loss.item()\n",
    "        loss.backward()\n",
    "        optimizer.step()\n",
    "    losses.append(total_loss / len(romaja.tensors))\n",
    "\n",
    "torch.save(model.state_dict(), \"model.pt\")\n",
    "\n",
    "plt.plot(losses)\n",
    "plt.xlabel(\"Epoch\")\n",
    "plt.ylabel(\"Loss\")\n",
    "plt.show()"
   ]
  }
 ],
 "metadata": {
  "kernelspec": {
   "display_name": ".venv",
   "language": "python",
   "name": "python3"
  },
  "language_info": {
   "codemirror_mode": {
    "name": "ipython",
    "version": 3
   },
   "file_extension": ".py",
   "mimetype": "text/x-python",
   "name": "python",
   "nbconvert_exporter": "python",
   "pygments_lexer": "ipython3",
   "version": "3.12.4"
  }
 },
 "nbformat": 4,
 "nbformat_minor": 2
}
